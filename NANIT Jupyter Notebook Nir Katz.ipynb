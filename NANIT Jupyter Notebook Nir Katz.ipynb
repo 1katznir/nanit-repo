{
 "cells": [
  {
   "cell_type": "code",
   "execution_count": 1,
   "metadata": {},
   "outputs": [],
   "source": [
    "import requests\n",
    "import json\n",
    "import pandas as pd\n",
    "import pandas_gbq\n",
    "from pandas.io.json import json_normalize\n",
    "from pandas.io import gbq\n",
    "from google.cloud import bigquery\n",
    "from google.oauth2 import service_account\n",
    "\n",
    "# variables\n",
    "url = 'https://nanit-bi-assginment.s3.amazonaws.com/shippingdata.json'\n",
    "\n",
    "# read json data to python\n",
    "data = json.loads(requests.get(url).text)"
   ]
  },
  {
   "cell_type": "code",
   "execution_count": 2,
   "metadata": {},
   "outputs": [
    {
     "name": "stderr",
     "output_type": "stream",
     "text": [
      "1it [00:05,  5.52s/it]\n"
     ]
    }
   ],
   "source": [
    "# dim_orders table\n",
    "dim_orders_dataframe = pd.DataFrame(data['Order'], columns=['OrderId', 'OrderDate', 'OrderSource','CurrencyCode'])\n",
    "dim_orders_dataframe.to_gbq(destination_table='nanit12345.dim_orders', project_id='nanit-sql-db', if_exists='replace')\n"
   ]
  },
  {
   "cell_type": "code",
   "execution_count": 3,
   "metadata": {},
   "outputs": [
    {
     "name": "stderr",
     "output_type": "stream",
     "text": [
      "1it [00:08,  8.57s/it]\n"
     ]
    }
   ],
   "source": [
    "# fact_orders table\n",
    "fact_orders_dataframe = pd.DataFrame(data['Order'], columns=['OrderId', 'Total', 'TotalTax'])\n",
    "fact_orders_dataframe.to_gbq(destination_table='nanit12345.fact_orders', project_id='nanit-sql-db', if_exists='replace')"
   ]
  },
  {
   "cell_type": "code",
   "execution_count": 6,
   "metadata": {},
   "outputs": [
    {
     "name": "stderr",
     "output_type": "stream",
     "text": [
      "1it [00:04,  4.68s/it]\n"
     ]
    }
   ],
   "source": [
    "# fact_order_lines table\n",
    "flat_order_lines=[]\n",
    "for order in data['Order']:\n",
    "    for order_line in order['OrderLines'] or []:\n",
    "        result = order['OrderId'], order_line['ProductCode'], order_line['UnitCost'], order_line['Quantity']\n",
    "        flat_order_lines.append(result)\n",
    "        \n",
    "flat_order_lines_dataframe = pd.DataFrame(flat_order_lines, columns=['OrderId', 'ProductCode', 'UnitCost','Quantity'])\n",
    "flat_order_lines_dataframe.to_gbq(destination_table='nanit12345.fact_order_lines', project_id='nanit-sql-db', if_exists='replace')"
   ]
  },
  {
   "cell_type": "code",
   "execution_count": 17,
   "metadata": {},
   "outputs": [
    {
     "name": "stderr",
     "output_type": "stream",
     "text": [
      "1it [00:09,  9.06s/it]\n"
     ]
    }
   ],
   "source": [
    "# dim_products table\n",
    "flat_products=[]\n",
    "for order in data['Order']:\n",
    "    for order_line in order['OrderLines'] or []:\n",
    "        result = order_line['ProductCode'], order_line['ProductDescription']\n",
    "        flat_products.append(result)\n",
    "\n",
    "dim_products_dataframe = pd.DataFrame(flat_products, columns=['ProductCode','ProductDescription'])        \n",
    "distinct_dim_products_dataframe = dim_products_dataframe.drop_duplicates()\n",
    "distinct_dim_products_dataframe.to_gbq(destination_table='nanit12345.dim_products', project_id='nanit-sql-db', if_exists='replace')\n"
   ]
  },
  {
   "cell_type": "code",
   "execution_count": 8,
   "metadata": {},
   "outputs": [
    {
     "name": "stderr",
     "output_type": "stream",
     "text": [
      "1it [00:07,  7.08s/it]\n"
     ]
    }
   ],
   "source": [
    "# dim_dispatches\n",
    "flat_dispatches=[]\n",
    "for order in data['Order']:\n",
    "    for dispatch in order['Dispatches'] or []:\n",
    "        result = dispatch['DispatchReference'], dispatch['DispatchDate'], dispatch['Carrier'], dispatch['TrackingNumber'], dispatch['TrackingURL']\n",
    "        flat_dispatches.append(result)\n",
    "        \n",
    "dim_dispatches_dataframe = pd.DataFrame(flat_dispatches, columns=['DispatchReference','DispatchDate','Carrier','TrackingNumber','TrackingURL'])\n",
    "dim_dispatches_dataframe.to_gbq(destination_table='nanit12345.dim_dispatches', project_id='nanit-sql-db', if_exists='replace')"
   ]
  },
  {
   "cell_type": "code",
   "execution_count": 9,
   "metadata": {},
   "outputs": [
    {
     "name": "stderr",
     "output_type": "stream",
     "text": [
      "1it [00:09,  9.05s/it]\n"
     ]
    }
   ],
   "source": [
    "# fact_dispatch_lines table\n",
    "flat_dispatch_lines=[]\n",
    "for order in data['Order']:\n",
    "    for dispatch in order['Dispatches'] or []:\n",
    "        for dispatch_line in dispatch['DispatchedLines'] or []:\n",
    "            result = order['OrderId'], dispatch['DispatchedLines'], dispatch_line['ProductCode'], dispatch_line['Quantity']\n",
    "            flat_dispatch_lines.append(result)\n",
    "        \n",
    "fact_dispatch_lines_dataframe = pd.DataFrame(flat_dispatch_lines, columns=['OrderId','DispatchReference','ProductCode','Quantity'])\n",
    "fact_dispatch_lines_dataframe.to_gbq(destination_table='nanit12345.fact_dispatch_lines', project_id='nanit-sql-db', if_exists='replace')\n"
   ]
  },
  {
   "cell_type": "code",
   "execution_count": 19,
   "metadata": {},
   "outputs": [
    {
     "name": "stderr",
     "output_type": "stream",
     "text": [
      "Downloading: 100%|████████████████████████| 465/465 [00:00<00:00, 487.43rows/s]\n",
      "1it [00:04,  4.47s/it]\n"
     ]
    }
   ],
   "source": [
    "# create dwh_order_lines_details_etl table, the base for the BI dashboard \n",
    "query = \"\"\"\n",
    "select \n",
    "dispatch_lines.OrderId,\n",
    "dispatch_lines.Quantity,\n",
    "dispatch_lines.ProductCode,\n",
    "\n",
    "dispatches.Carrier,\n",
    "dispatches.DispatchDate,\n",
    "\n",
    "orders.OrderSource,\n",
    "\n",
    "products.ProductDescription\n",
    "\n",
    "from nanit12345.fact_dispatch_lines as dispatch_lines\n",
    "    left join nanit12345.dim_dispatches as dispatches\n",
    "        on dispatch_lines.DispatchReference = dispatches.DispatchReference\n",
    "        \n",
    "  left join nanit12345.dim_orders as orders\n",
    "        on dispatch_lines.OrderId = orders.OrderId\n",
    "        \n",
    "  left join (select * from nanit12345.dim_products where ProductDescription<>'Non Camera Hardware (Bundle)') as products\n",
    "        on dispatch_lines.ProductCode = products.ProductCode\n",
    "\"\"\"\n",
    "query_result_dataframe = pandas_gbq.read_gbq(query, project_id='nanit-sql-db' )\n",
    "query_result_dataframe.to_gbq(destination_table='nanit12345.dwh_order_lines_details_etl', project_id='nanit-sql-db', if_exists='replace')"
   ]
  }
 ],
 "metadata": {
  "kernelspec": {
   "display_name": "Python 3",
   "language": "python",
   "name": "python3"
  },
  "language_info": {
   "codemirror_mode": {
    "name": "ipython",
    "version": 3
   },
   "file_extension": ".py",
   "mimetype": "text/x-python",
   "name": "python",
   "nbconvert_exporter": "python",
   "pygments_lexer": "ipython3",
   "version": "3.7.4"
  }
 },
 "nbformat": 4,
 "nbformat_minor": 2
}
